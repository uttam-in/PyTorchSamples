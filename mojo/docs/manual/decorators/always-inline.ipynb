{
 "cells": [
  {
   "cell_type": "raw",
   "metadata": {},
   "source": [
    "---\n",
    "title: '`@always_inline`'\n",
    "description: Copies the body of a function directly into the body of the calling function.\n",
    "css: /static/styles/page-navigation.css\n",
    "website:\n",
    "  open-graph:\n",
    "    image: /static/images/mojo-social-card.png\n",
    "  twitter-card:\n",
    "    image: /static/images/mojo-social-card.png\n",
    "---"
   ]
  },
  {
   "attachments": {},
   "cell_type": "markdown",
   "metadata": {},
   "source": [
    "You can add the `@always_inline` decorator on any function to make the Mojo\n",
    "compiler \"inline\" the body of the function (copy it) directly into the body of\n",
    "the calling function.\n",
    "\n",
    "This eliminates potential performance costs associated with function calls\n",
    "jumping to a new point in code. Normally, the compiler will do this\n",
    "automatically where it can improve performance, but this decorator forces it to\n",
    "do so. The downside is that it can increase the binary size by duplicating the\n",
    "function at every call site.\n",
    "\n",
    "For example:"
   ]
  },
  {
   "cell_type": "code",
   "execution_count": null,
   "metadata": {},
   "outputs": [],
   "source": [
    "@always_inline\n",
    "fn add(a: Int, b: Int) -> Int:\n",
    "    return a + b\n",
    "\n",
    "print(add(1, 2))"
   ]
  },
  {
   "cell_type": "markdown",
   "metadata": {},
   "source": [
    "Because `add()` is decorated with `@always_inline`, Mojo compiles this program\n",
    "without adding the `add()` function to the call stack, and it instead performs\n",
    "the addition directly at the `print()` call site, as if it were written like\n",
    "this:"
   ]
  },
  {
   "cell_type": "code",
   "execution_count": null,
   "metadata": {},
   "outputs": [],
   "source": [
    "print(1 + 2)"
   ]
  },
  {
   "cell_type": "markdown",
   "metadata": {},
   "source": [
    "## `@always_inline(\"nodebug\")`\n",
    "\n",
    "You can also use the decorator with the `\"nodebug\"` argument, which has the\n",
    "same effect to inline the function, but without debug information. This means\n",
    "you can't step into the function when debugging, but it reduces the debug build\n",
    "binary size."
   ]
  }
 ],
 "metadata": {
  "kernelspec": {
   "display_name": "Mojo",
   "language": "mojo",
   "name": "mojo-jupyter-kernel"
  },
  "language_info": {
   "codemirror_mode": {
    "name": "mojo"
   },
   "file_extension": ".mojo",
   "mimetype": "text/x-mojo",
   "name": "mojo"
  },
  "orig_nbformat": 4
 },
 "nbformat": 4,
 "nbformat_minor": 2
}
