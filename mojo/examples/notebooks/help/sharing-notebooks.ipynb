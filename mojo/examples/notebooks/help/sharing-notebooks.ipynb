{
 "cells": [
  {
   "attachments": {},
   "cell_type": "markdown",
   "metadata": {},
   "source": [
    "# Sharing notebooks\n",
    "\n",
    "You can share your Mojo notebooks with other Mojo Playground users.\n",
    "\n",
    "## Share a Mojo notebook\n",
    "\n",
    "1. Save a notebook in the `shared` directory. \n",
    "2. Right-click on the file and select **Copy Sharable link**.\n",
    "3. Share the link.\n",
    "4. To stop sharing, remove the file from the `shared` directory.\n",
    "\n",
    "![](https://docs.modular.com/static/images/playground/copy-sharable-link.png)\n",
    "\n",
    "\n",
    "## Copy a shared Mojo notebook\n",
    "\n",
    "1. Open the shared link in a browser. \n",
    "2. By default, Mojo Playground always opens the `HelloMojo` notebook when\n",
    "it opens, so you might need to click the **Preview** tab to see the\n",
    "shared notebook.\n",
    "3. Click **Import** at the top of the notebook window. This makes a copy\n",
    "of the file on your Mojo Playground volume. If the original author makes\n",
    "any changes (including removing the file), it will not affect your imported\n",
    "copy.\n",
    "\n",
    "![](https://docs.modular.com/static/images/playground/save-shared-notebook.png)"
   ]
  },
  {
   "attachments": {},
   "cell_type": "markdown",
   "metadata": {},
   "source": [
    "## Caveats\n",
    "\n",
    "- Only files ending with `.ipynb` can be shared.\n",
    "- The maximum sharable notebook size is 256 KiB.\n",
    "- You can click **Copy Sharable link** on any file, but links for files that are\n",
    "  not in the `shared` directory will not work (they will 404)."
   ]
  }
 ],
 "metadata": {
  "kernelspec": {
   "display_name": "Mojo",
   "language": "mojo",
   "name": "mojo-jupyter-kernel"
  },
  "language_info": {
   "codemirror_mode": {
    "name": "mojo"
   }
  }
 },
 "nbformat": 4,
 "nbformat_minor": 2
}
